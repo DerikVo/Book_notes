{
 "cells": [
  {
   "cell_type": "markdown",
   "id": "a099aecc-fb15-4b95-9817-88b02b0013a3",
   "metadata": {},
   "source": [
    "Data comes in a variety of formats that is more than a standard spreadsheet, for example social network and text data. Although this can be considered unstructured data, often this data is structured."
   ]
  },
  {
   "cell_type": "markdown",
   "id": "0901baf0-c666-4504-8d07-bb7136a4e3d5",
   "metadata": {},
   "source": [
    "# Machine learning concepts\n",
    "\n",
    "Review concepts as  what data structured data means. Cover supervised learning, overfitting, curse of dimensionality (from a geometric perspective). Additionally, this chapter covers data types-- network data, image data, and text data."
   ]
  },
  {
   "cell_type": "markdown",
   "id": "d7dda181-a866-4082-8499-f7301ef1a829",
   "metadata": {},
   "source": [
    "## Machine learning categories\n",
    "\n",
    "### supervised learning\n",
    "\n",
    "Often aimed at making predictions. This includes regressions and classification algorithms. Such as K-nearest neighbors, naive Bayes, support vector machines, random forests, gradient boosting, and neural networks. It is important to know the nature of a function, such as nonparametric functions, or functions that are computed algorithmically. Supervised learning often splits the data into a training and test set which is used to measures the effectiveness of the coefficients in predicting a variable. Once trained, you can estimate the impact of each independent variable (feature importance) which can help identify insights for decision making.\n",
    "\n",
    "### unsupervised learning\n",
    "\n",
    "Often used for data exploration, such as reducing the dimensionality of a data set, identify relationships between data, and identify outliers. Unlike supervised learning, this method only has independent variables. Therefore, we do not need to split the data. This method can be used for market segmentation or for visualizing groups. Some algorithms include k-means clustering, hierarchical clustering, and principal component analysis.\n",
    "\n",
    "These techniques can be used in tandem such as using unsupervised learning to find new questions then use supervised learning to answer them, or use unsupervised learning for dimension reduction as a preprocessing step."
   ]
  },
  {
   "cell_type": "code",
   "execution_count": null,
   "id": "b8b56f78-595d-4aaa-90cd-b0e829c511ab",
   "metadata": {},
   "outputs": [],
   "source": []
  }
 ],
 "metadata": {
  "kernelspec": {
   "display_name": "Python [conda env:root] *",
   "language": "python",
   "name": "conda-root-py"
  },
  "language_info": {
   "codemirror_mode": {
    "name": "ipython",
    "version": 3
   },
   "file_extension": ".py",
   "mimetype": "text/x-python",
   "name": "python",
   "nbconvert_exporter": "python",
   "pygments_lexer": "ipython3",
   "version": "3.9.18"
  }
 },
 "nbformat": 4,
 "nbformat_minor": 5
}
